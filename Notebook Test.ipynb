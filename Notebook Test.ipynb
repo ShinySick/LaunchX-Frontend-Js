{
 "cells": [
  {
   "cell_type": "code",
   "execution_count": 1,
   "metadata": {},
   "outputs": [
    {
     "name": "stdout",
     "output_type": "stream",
     "text": [
      "Hola\n"
     ]
    }
   ],
   "source": [
    "testString = \"Hola\"\n",
    "\n",
    "print(f\"{testString}\")"
   ]
  }
 ],
 "metadata": {
  "interpreter": {
   "hash": "7106a09a97ba6e3a54d1d9e593346e3f17b434b6af2b6c0ff0d33c1f26576701"
  },
  "kernelspec": {
   "display_name": "Python 3.10.2 64-bit",
   "language": "python",
   "name": "python3"
  },
  "language_info": {
   "codemirror_mode": {
    "name": "ipython",
    "version": 3
   },
   "file_extension": ".py",
   "mimetype": "text/x-python",
   "name": "python",
   "nbconvert_exporter": "python",
   "pygments_lexer": "ipython3",
   "version": "3.10.2"
  },
  "orig_nbformat": 4
 },
 "nbformat": 4,
 "nbformat_minor": 2
}
